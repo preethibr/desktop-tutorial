{
 "cells": [
  {
   "cell_type": "code",
   "execution_count": 19,
   "metadata": {},
   "outputs": [
    {
     "name": "stdout",
     "output_type": "stream",
     "text": [
      "<class 'pandas.core.frame.DataFrame'>\n",
      "RangeIndex: 21293 entries, 0 to 21292\n",
      "Data columns (total 4 columns):\n",
      "Date           21293 non-null object\n",
      "Time           21293 non-null object\n",
      "Transaction    21293 non-null int64\n",
      "Item           21293 non-null object\n",
      "dtypes: int64(1), object(3)\n",
      "memory usage: 665.5+ KB\n",
      "List of Items sold at the Bakery:\n",
      "Total Items:  95\n",
      "---------------\n",
      "Bread\n",
      "Scandinavian\n",
      "Hot chocolate\n",
      "Jam\n",
      "Cookies\n",
      "Muffin\n",
      "Coffee\n",
      "Pastry\n",
      "Medialuna\n",
      "Tea\n",
      "NONE\n",
      "Tartine\n",
      "Basket\n",
      "Mineral water\n",
      "Farm House\n",
      "Fudge\n",
      "Juice\n",
      "Ella's Kitchen Pouches\n",
      "Victorian Sponge\n",
      "Frittata\n",
      "Hearty & Seasonal\n",
      "Soup\n",
      "Pick and Mix Bowls\n",
      "Smoothies\n",
      "Cake\n",
      "Mighty Protein\n",
      "Chicken sand\n",
      "Coke\n",
      "My-5 Fruit Shoot\n",
      "Focaccia\n",
      "Sandwich\n",
      "Alfajores\n",
      "Eggs\n",
      "Brownie\n",
      "Dulce de Leche\n",
      "Honey\n",
      "The BART\n",
      "Granola\n",
      "Fairy Doors\n",
      "Empanadas\n",
      "Keeping It Local\n",
      "Art Tray\n",
      "Bowl Nic Pitt\n",
      "Bread Pudding\n",
      "Adjustment\n",
      "Truffles\n",
      "Chimichurri Oil\n",
      "Bacon\n",
      "Spread\n",
      "Kids biscuit\n",
      "Siblings\n",
      "Caramel bites\n",
      "Jammie Dodgers\n",
      "Tiffin\n",
      "Olum & polenta\n",
      "Polenta\n",
      "The Nomad\n",
      "Hack the stack\n",
      "Bakewell\n",
      "Lemon and coconut\n",
      "Toast\n",
      "Scone\n",
      "Crepes\n",
      "Vegan mincepie\n",
      "Bare Popcorn\n",
      "Muesli\n",
      "Crisps\n",
      "Pintxos\n",
      "Gingerbread syrup\n",
      "Panatone\n",
      "Brioche and salami\n",
      "Afternoon with the baker\n",
      "Salad\n",
      "Chicken Stew\n",
      "Spanish Brunch\n",
      "Raspberry shortbread sandwich\n",
      "Extra Salami or Feta\n",
      "Duck egg\n",
      "Baguette\n",
      "Valentine's card\n",
      "Tshirt\n",
      "Vegan Feast\n",
      "Postcard\n",
      "Nomad bag\n",
      "Chocolates\n",
      "Coffee granules \n",
      "Drinking chocolate spoons \n",
      "Christmas common\n",
      "Argentina Night\n",
      "Half slice Monster \n",
      "Gift voucher\n",
      "Cherry me Dried fruit\n",
      "Mortimer\n",
      "Raw bars\n",
      "Tacos/Fajita\n"
     ]
    }
   ],
   "source": [
    "import numpy as np # linear algebra\n",
    "import pandas as pd # data processing, CSV file I/O (e.g. pd.read_csv)\n",
    "import matplotlib.pyplot as plt\n",
    "import seaborn as sns\n",
    "data = pd.read_csv('BreadBasket_DMS.csv')\n",
    "data.info()\n",
    "print(\"List of Items sold at the Bakery:\")\n",
    "print(\"Total Items: \",len(data.Item.unique()))\n",
    "print(\"-\"*15)\n",
    "for i in data.Item.unique():\n",
    "    print(i)"
   ]
  },
  {
   "cell_type": "code",
   "execution_count": 5,
   "metadata": {},
   "outputs": [],
   "source": [
    "df = data.drop(data[data.Item == 'NONE'].index)"
   ]
  },
  {
   "cell_type": "code",
   "execution_count": 6,
   "metadata": {},
   "outputs": [
    {
     "data": {
      "text/html": [
       "<div>\n",
       "<style scoped>\n",
       "    .dataframe tbody tr th:only-of-type {\n",
       "        vertical-align: middle;\n",
       "    }\n",
       "\n",
       "    .dataframe tbody tr th {\n",
       "        vertical-align: top;\n",
       "    }\n",
       "\n",
       "    .dataframe thead th {\n",
       "        text-align: right;\n",
       "    }\n",
       "</style>\n",
       "<table border=\"1\" class=\"dataframe\">\n",
       "  <thead>\n",
       "    <tr style=\"text-align: right;\">\n",
       "      <th></th>\n",
       "      <th>Date</th>\n",
       "      <th>Time</th>\n",
       "      <th>Transaction</th>\n",
       "      <th>Item</th>\n",
       "    </tr>\n",
       "  </thead>\n",
       "  <tbody>\n",
       "    <tr>\n",
       "      <th>count</th>\n",
       "      <td>20507</td>\n",
       "      <td>20507</td>\n",
       "      <td>20507.000000</td>\n",
       "      <td>20507</td>\n",
       "    </tr>\n",
       "    <tr>\n",
       "      <th>unique</th>\n",
       "      <td>159</td>\n",
       "      <td>8197</td>\n",
       "      <td>NaN</td>\n",
       "      <td>94</td>\n",
       "    </tr>\n",
       "    <tr>\n",
       "      <th>top</th>\n",
       "      <td>2017-02-04</td>\n",
       "      <td>12:07:39</td>\n",
       "      <td>NaN</td>\n",
       "      <td>Coffee</td>\n",
       "    </tr>\n",
       "    <tr>\n",
       "      <th>freq</th>\n",
       "      <td>292</td>\n",
       "      <td>16</td>\n",
       "      <td>NaN</td>\n",
       "      <td>5471</td>\n",
       "    </tr>\n",
       "    <tr>\n",
       "      <th>mean</th>\n",
       "      <td>NaN</td>\n",
       "      <td>NaN</td>\n",
       "      <td>4976.202370</td>\n",
       "      <td>NaN</td>\n",
       "    </tr>\n",
       "    <tr>\n",
       "      <th>std</th>\n",
       "      <td>NaN</td>\n",
       "      <td>NaN</td>\n",
       "      <td>2796.203001</td>\n",
       "      <td>NaN</td>\n",
       "    </tr>\n",
       "    <tr>\n",
       "      <th>min</th>\n",
       "      <td>NaN</td>\n",
       "      <td>NaN</td>\n",
       "      <td>1.000000</td>\n",
       "      <td>NaN</td>\n",
       "    </tr>\n",
       "    <tr>\n",
       "      <th>25%</th>\n",
       "      <td>NaN</td>\n",
       "      <td>NaN</td>\n",
       "      <td>2552.000000</td>\n",
       "      <td>NaN</td>\n",
       "    </tr>\n",
       "    <tr>\n",
       "      <th>50%</th>\n",
       "      <td>NaN</td>\n",
       "      <td>NaN</td>\n",
       "      <td>5137.000000</td>\n",
       "      <td>NaN</td>\n",
       "    </tr>\n",
       "    <tr>\n",
       "      <th>75%</th>\n",
       "      <td>NaN</td>\n",
       "      <td>NaN</td>\n",
       "      <td>7357.000000</td>\n",
       "      <td>NaN</td>\n",
       "    </tr>\n",
       "    <tr>\n",
       "      <th>max</th>\n",
       "      <td>NaN</td>\n",
       "      <td>NaN</td>\n",
       "      <td>9684.000000</td>\n",
       "      <td>NaN</td>\n",
       "    </tr>\n",
       "  </tbody>\n",
       "</table>\n",
       "</div>"
      ],
      "text/plain": [
       "              Date      Time   Transaction    Item\n",
       "count        20507     20507  20507.000000   20507\n",
       "unique         159      8197           NaN      94\n",
       "top     2017-02-04  12:07:39           NaN  Coffee\n",
       "freq           292        16           NaN    5471\n",
       "mean           NaN       NaN   4976.202370     NaN\n",
       "std            NaN       NaN   2796.203001     NaN\n",
       "min            NaN       NaN      1.000000     NaN\n",
       "25%            NaN       NaN   2552.000000     NaN\n",
       "50%            NaN       NaN   5137.000000     NaN\n",
       "75%            NaN       NaN   7357.000000     NaN\n",
       "max            NaN       NaN   9684.000000     NaN"
      ]
     },
     "execution_count": 6,
     "metadata": {},
     "output_type": "execute_result"
    }
   ],
   "source": [
    "df.describe(include='all')"
   ]
  },
  {
   "cell_type": "code",
   "execution_count": 14,
   "metadata": {},
   "outputs": [
    {
     "data": {
      "image/png": "[encoded data removed]",
      "text/plain": [
       "<Figure size 432x288 with 1 Axes>"
      ]
     },
     "metadata": {
      "needs_background": "light"
     },
     "output_type": "display_data"
    }
   ],
   "source": [
    "\n",
    "df['Item'].value_counts().sort_values(ascending=False).head(10).plot.bar(width=0.5,edgecolor='k',align='center',linewidth=1)\n",
    "plt.xlabel('Food Item',fontsize=20)\n",
    "plt.ylabel('Number of transactions',fontsize=17)\n",
    "\n",
    "plt.title('10 Most Sold Items at the Bakery',fontsize=20)\n",
    "plt.ioff()\n"
   ]
  },
  {
   "cell_type": "code",
   "execution_count": 22,
   "metadata": {},
   "outputs": [],
   "source": [
    "df['datetime'] = pd.to_datetime(df['Date']+\" \"+df['Time'])\n",
    "df['Week'] = df['datetime'].dt.week\n",
    "df['Month'] = df['datetime'].dt.month\n",
    "df['Weekday'] = df['datetime'].dt.weekday\n"
   ]
  },
  {
   "cell_type": "code",
   "execution_count": 23,
   "metadata": {},
   "outputs": [],
   "source": [
    "df1=df[['Date','Transaction', 'Month','Week', 'Weekday']]"
   ]
  },
  {
   "cell_type": "code",
   "execution_count": 26,
   "metadata": {},
   "outputs": [
    {
     "data": {
      "text/plain": [
       "<matplotlib.axes._subplots.AxesSubplot at 0x1c3bbbeff60>"
      ]
     },
     "execution_count": 26,
     "metadata": {},
     "output_type": "execute_result"
    },
    {
     "data": {
      "image/png": "[encoded data removed]",
      "text/plain": [
       "<Figure size 432x288 with 1 Axes>"
      ]
     },
     "metadata": {
      "needs_background": "light"
     },
     "output_type": "display_data"
    }
   ],
   "source": [
    "sns.countplot(x='Weekday',data=df1)"
   ]
  },
  {
   "cell_type": "code",
   "execution_count": null,
   "metadata": {},
   "outputs": [],
   "source": []
  }
 ],
 "metadata": {
  "kernelspec": {
   "display_name": "Python 3",
   "language": "python",
   "name": "python3"
  },
  "language_info": {
   "codemirror_mode": {
    "name": "ipython",
    "version": 3
   },
   "file_extension": ".py",
   "mimetype": "text/x-python",
   "name": "python",
   "nbconvert_exporter": "python",
   "pygments_lexer": "ipython3",
   "version": "3.7.3"
  }
 },
 "nbformat": 4,
 "nbformat_minor": 4
}
